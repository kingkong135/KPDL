{
 "cells": [
  {
   "cell_type": "code",
   "execution_count": 1,
   "metadata": {},
   "outputs": [],
   "source": [
    "import pandas as pd\n",
    "import numpy as np\n",
    "import seaborn as sns\n",
    "import matplotlib.pyplot as plt\n",
    "\n",
    "import os\n",
    "# print(os.listdir(\"../input\"))\n",
    "%matplotlib inline"
   ]
  },
  {
   "cell_type": "code",
   "execution_count": 32,
   "metadata": {},
   "outputs": [],
   "source": [
    "lines = []\n",
    "with open(\"agedetector_group_train.v1.0.txt\", 'r') as f:\n",
    "    line = f.readline()\n",
    "    while line:\n",
    "        lines.append(line.strip())\n",
    "        line = f.readline()"
   ]
  },
  {
   "cell_type": "code",
   "execution_count": 33,
   "metadata": {},
   "outputs": [],
   "source": [
    "datas = []\n",
    "for line in lines:\n",
    "    data = {\n",
    "        \"label\": \"\",\n",
    "        \"groups\": []\n",
    "    }\n",
    "    temp = line.split(\" \", 1)\n",
    "    data[\"label\"] = temp[0][9:]\n",
    "    data[\"groups\"] = temp[1].split(\" \")\n",
    "    datas.append(data)"
   ]
  },
  {
   "cell_type": "code",
   "execution_count": 34,
   "metadata": {},
   "outputs": [],
   "source": [
    "groups = []\n",
    "for data in datas:\n",
    "    for group in data['groups']:\n",
    "        groups.append(group)"
   ]
  },
  {
   "cell_type": "code",
   "execution_count": 35,
   "metadata": {},
   "outputs": [],
   "source": [
    "n = len(set(groups))"
   ]
  },
  {
   "cell_type": "code",
   "execution_count": 36,
   "metadata": {},
   "outputs": [
    {
     "data": {
      "text/plain": [
       "331518"
      ]
     },
     "execution_count": 36,
     "metadata": {},
     "output_type": "execute_result"
    }
   ],
   "source": [
    "n\n"
   ]
  },
  {
   "cell_type": "code",
   "execution_count": 39,
   "metadata": {},
   "outputs": [
    {
     "name": "stdout",
     "output_type": "stream",
     "text": [
      "{'18-24': 8908, '25-34': 7296, '35-44': 6268, '45-54': 6992, '55+': 2658, 'total': 32122}\n"
     ]
    }
   ],
   "source": [
    "a = [0] * 5\n",
    "res = {\n",
    "        \"18-24\": 0,\n",
    "        \"25-34\": 0,\n",
    "        \"35-44\": 0,\n",
    "        \"45-54\": 0,\n",
    "        \"55+\": 0, \n",
    "        \"total\": 0\n",
    "    }\n",
    "for data in datas:\n",
    "    res[data[\"label\"]] += 1\n",
    "    res[\"total\"] += 1\n",
    "print(res)"
   ]
  },
  {
   "cell_type": "code",
   "execution_count": null,
   "metadata": {},
   "outputs": [],
   "source": [
    "\n",
    "# group_members = []\n",
    "# for group_id in groups:\n",
    "#     res = {\n",
    "#         'group': group_id,\n",
    "#         \"18-24\": 0,\n",
    "#         \"25-34\": 0,\n",
    "#         \"35-44\": 0,\n",
    "#         \"45-54\": 0,\n",
    "#         \"55+\": 0, \n",
    "#         \"total\": 0\n",
    "#     }\n",
    "#     for data in datas:\n",
    "#         if group_id in data[\"groups\"]:\n",
    "#             res[data[\"label\"]] += 1\n",
    "#             res[\"total\"] += 1\n",
    "#     group_members.append(res)"
   ]
  },
  {
   "cell_type": "code",
   "execution_count": 40,
   "metadata": {},
   "outputs": [],
   "source": [
    "datas = list(datas)\n",
    "a = np.array(datas)"
   ]
  },
  {
   "cell_type": "code",
   "execution_count": 41,
   "metadata": {},
   "outputs": [
    {
     "data": {
      "text/plain": [
       "32122"
      ]
     },
     "execution_count": 41,
     "metadata": {},
     "output_type": "execute_result"
    }
   ],
   "source": [
    "len(a)"
   ]
  },
  {
   "cell_type": "code",
   "execution_count": 44,
   "metadata": {},
   "outputs": [
    {
     "data": {
      "text/plain": [
       "str"
      ]
     },
     "execution_count": 44,
     "metadata": {},
     "output_type": "execute_result"
    }
   ],
   "source": [
    "type(datas[1]['groups'][0])"
   ]
  },
  {
   "cell_type": "code",
   "execution_count": null,
   "metadata": {},
   "outputs": [],
   "source": [
    "# import json \n",
    "# file = \"./groups.json\"\n",
    "# with open(file, 'w') as f:\n",
    "#     for data in group_members:\n",
    "#         json.dump(data, f)"
   ]
  }
 ],
 "metadata": {
  "kernelspec": {
   "display_name": "Python 3",
   "language": "python",
   "name": "python3"
  },
  "language_info": {
   "codemirror_mode": {
    "name": "ipython",
    "version": 3
   },
   "file_extension": ".py",
   "mimetype": "text/x-python",
   "name": "python",
   "nbconvert_exporter": "python",
   "pygments_lexer": "ipython3",
   "version": "3.7.3"
  }
 },
 "nbformat": 4,
 "nbformat_minor": 2
}
